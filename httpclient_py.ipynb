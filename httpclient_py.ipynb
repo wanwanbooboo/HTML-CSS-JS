{
  "nbformat": 4,
  "nbformat_minor": 0,
  "metadata": {
    "colab": {
      "name": "httpclient.py",
      "provenance": [],
      "collapsed_sections": [],
      "authorship_tag": "ABX9TyPVtfxPeO0l+ZzO3e+SySHb",
      "include_colab_link": true
    },
    "kernelspec": {
      "name": "python3",
      "display_name": "Python 3"
    },
    "language_info": {
      "name": "python"
    }
  },
  "cells": [
    {
      "cell_type": "markdown",
      "metadata": {
        "id": "view-in-github",
        "colab_type": "text"
      },
      "source": [
        "<a href=\"https://colab.research.google.com/github/wanwanbooboo/HTML-CSS-JS/blob/main/httpclient_py.ipynb\" target=\"_parent\"><img src=\"https://colab.research.google.com/assets/colab-badge.svg\" alt=\"Open In Colab\"/></a>"
      ]
    },
    {
      "cell_type": "code",
      "execution_count": null,
      "metadata": {
        "colab": {
          "base_uri": "https://localhost:8080/",
          "height": 139
        },
        "id": "EvcKWoyjLLt6",
        "outputId": "eeefdeb9-416d-47f3-f0b5-fdef30ba9b39"
      },
      "outputs": [
        {
          "output_type": "error",
          "ename": "SyntaxError",
          "evalue": "ignored",
          "traceback": [
            "\u001b[0;36m  File \u001b[0;32m\"<ipython-input-8-db6da7fdaa22>\"\u001b[0;36m, line \u001b[0;32m23\u001b[0m\n\u001b[0;31m    \"\"\"ソケットから接続が終わるまでバイト列を読み込むジェネレータ関数\"\"\"\"\u001b[0m\n\u001b[0m                                          ^\u001b[0m\n\u001b[0;31mSyntaxError\u001b[0m\u001b[0;31m:\u001b[0m EOL while scanning string literal\n"
          ]
        }
      ],
      "source": [
        "\"\"\"ソケットを使ってHTTPクライアントを実装したスクリプト\"\"\"\n",
        "\n",
        "import socket\n",
        "\n",
        "def send_msg(sock,msg):\n",
        "  \"\"\"ソケットに引数のバイト列を書き込む関数\"\"\"\n",
        "  #これまでに送信できたバイト数\n",
        "  total_sent_len=0\n",
        "  #送信したいバイト数\n",
        "  total_msg_len=len(msg)\n",
        "  #まだ送信したいデータが残っているかを判定する\n",
        "  while total_sent_len<total_msg_len:\n",
        "    #ソケットにバイト列を書き込んで、書き込めたバイト数を得る\n",
        "    sent_len=sock.send(msg[total_sent_len])\n",
        "    #まったく書き込めなかったらソケットの接続が終了している\n",
        "    if sent_len==0:\n",
        "      raise RuntimeError('socket connection broken')\n",
        "    #書き込めた分を加算する\n",
        "    total_sent_len +=sent_len\n",
        "\n",
        "\n",
        "def recv_msg(sock,chunk_len=1024):\n",
        "  \"\"\"ソケットから接続が終わるまでバイト列を読み込むジェネレータ関数\"\"\"\"\n",
        "  while true:\n",
        "    #ソケットから指定したバイト数を読み込む\n",
        "    received_chunk=sock.recv(chunk_len)\n",
        "    #まったく読めなかったときは接続が終了している\n",
        "    if len(received_chunk)==0:\n",
        "      break\n",
        "    #受信したバイト列を返す。複数あるとyieldはリストで返す\n",
        "    yield received_chunk\n",
        "\n",
        "\n",
        "def main():\n",
        "  \"\"\"スクリプトとして実行されたときに呼び出されるメイン関数\"\"\"\n",
        "  #socketインスタンスの生成。AF_INETはIPv4、SOCK_STREAMはTCPを使用することを意味する\n",
        "  client_socket = socket.socket(socket.AF_INET, socket.SOCK_STREAM)\n",
        "  #接続先のIPアドレスとポートを指定してサーバに接続する\n",
        "  client_socket.connect(('127.0.0.1',80))\n",
        "  #HTTPサーバからドキュメント（index.html）を取得するためのGETリクエスト\n",
        "  request_text='GET / HTTP/1.0\\r\\n\\r\\n'\n",
        "  #ソケットにデータを書き込むためには文字列ではなくバイト列が必要なのでエンコードする\n",
        "  request_bytes =request_text.encode('ASCII')\n",
        "  #ソケットにリクエストのバイト列を書き込む\n",
        "  send_msg(client_socket,request_bytes)\n",
        "  #ソケットからレスポンスのバイト列を読み込む。バイト列は空白を区切り文字としてjoinする\n",
        "  received_bytes=b''.join(recv_msg(client_socket))\n",
        "  #バイト列を文字列へデコード\n",
        "  received_text=received_bytes.decode('ASCII')\n",
        "  #得られた文字列を表示\n",
        "  print(received_text)\n",
        "  #使い終わったソケットを閉じる\n",
        "  client_socket.close()\n",
        "\n",
        "\n",
        "if __name__=='__main__':\n",
        "  main()"
      ]
    },
    {
      "cell_type": "code",
      "source": [
        "_"
      ],
      "metadata": {
        "id": "C2OI6lxzQ-Dt"
      },
      "execution_count": null,
      "outputs": []
    }
  ]
}